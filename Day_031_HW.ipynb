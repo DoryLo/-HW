{
 "cells": [
  {
   "cell_type": "code",
   "execution_count": null,
   "metadata": {},
   "outputs": [],
   "source": [
    "#賣衣服\n",
    "#\"搭配與否和品味如何，都只是一堆屬性而已：腰圍、材質、顏色、重量、圖案。一切都只是資料。\"\n",
    "#(https://www.hbrtaiwan.com/article_content_AR0007918.html)\n",
    "#未來的服飾網站，對於消費者的喜好預測將會愈來愈精準，對於資源的分配也會愈來愈有效率"
   ]
  }
 ],
 "metadata": {
  "kernelspec": {
   "display_name": "Python 3",
   "language": "python",
   "name": "python3"
  },
  "language_info": {
   "codemirror_mode": {
    "name": "ipython",
    "version": 3
   },
   "file_extension": ".py",
   "mimetype": "text/x-python",
   "name": "python",
   "nbconvert_exporter": "python",
   "pygments_lexer": "ipython3",
   "version": "3.7.3"
  }
 },
 "nbformat": 4,
 "nbformat_minor": 2
}
