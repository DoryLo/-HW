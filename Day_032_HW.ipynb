{
 "cells": [
  {
   "cell_type": "code",
   "execution_count": null,
   "metadata": {},
   "outputs": [],
   "source": [
    "#作業 1：目標\n",
    "##(國王-男人+女人 = 皇后)背後的詞類比原理究竟為何?\n",
    "\n",
    "#作業 2：方法\n",
    "#\"GloVe\" : coined from Global Vectors, is a model for distributed word representation. \n",
    "#          The model is an unsupervised learning algorithm for obtaining vector representations for words.\n",
    "#\"SGNS（skip-gram with negative-sample）\"\n",
    "\n",
    "\n",
    "#作業 3：資料來源 \n",
    "#https://www.leiphone.com/news/201907/Nn9r257HRfoxYarB.html"
   ]
  }
 ],
 "metadata": {
  "kernelspec": {
   "display_name": "Python 3",
   "language": "python",
   "name": "python3"
  },
  "language_info": {
   "codemirror_mode": {
    "name": "ipython",
    "version": 3
   },
   "file_extension": ".py",
   "mimetype": "text/x-python",
   "name": "python",
   "nbconvert_exporter": "python",
   "pygments_lexer": "ipython3",
   "version": "3.7.3"
  }
 },
 "nbformat": 4,
 "nbformat_minor": 2
}
