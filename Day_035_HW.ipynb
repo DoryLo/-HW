{
 "cells": [
  {
   "cell_type": "code",
   "execution_count": null,
   "metadata": {},
   "outputs": [],
   "source": [
    "#e.g.淨采精萃粉底\n",
    "###標籤\n",
    "#精華液#粉底液#腮紅#不顯毛孔#自然不厚重#光澤感#霧面感#陶瓷娃娃肌#美白#自然無負擔#改善暗沉#服貼#柔嫩#保濕#明亮#自然#遮瑕#服貼#好氣色#乾爽#薄透#柔焦#不厚重#提亮#保濕底妝#潤澤肌#裸妝"
   ]
  }
 ],
 "metadata": {
  "kernelspec": {
   "display_name": "Python 3",
   "language": "python",
   "name": "python3"
  },
  "language_info": {
   "codemirror_mode": {
    "name": "ipython",
    "version": 3
   },
   "file_extension": ".py",
   "mimetype": "text/x-python",
   "name": "python",
   "nbconvert_exporter": "python",
   "pygments_lexer": "ipython3",
   "version": "3.7.3"
  }
 },
 "nbformat": 4,
 "nbformat_minor": 2
}
