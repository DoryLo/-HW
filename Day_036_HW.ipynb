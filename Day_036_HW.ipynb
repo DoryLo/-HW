{
 "cells": [
  {
   "cell_type": "code",
   "execution_count": 8,
   "metadata": {},
   "outputs": [],
   "source": [
    "from sklearn import metrics, datasets\n",
    "from sklearn.linear_model import LinearRegression\n",
    "from sklearn.model_selection import train_test_split\n",
    "\n",
    "import matplotlib.pyplot as plt\n",
    "from matplotlib.pylab import rcParams\n",
    "import numpy as np\n",
    "%matplotlib inline"
   ]
  },
  {
   "cell_type": "code",
   "execution_count": 9,
   "metadata": {},
   "outputs": [
    {
     "name": "stdout",
     "output_type": "stream",
     "text": [
      "mse :  2.841797252565566\n",
      "msa :  12.48868006739824\n",
      "r+square :  0.9916581036260311\n"
     ]
    }
   ],
   "source": [
    "#回歸問題\n",
    "#生成資料\n",
    "X,y = datasets.make_regression(n_features = 1, random_state = 42, noise = 4)\n",
    "model = LinearRegression()\n",
    "# 將資料放進模型訓練\n",
    "model.fit(X, y)\n",
    "#進行預測\n",
    "prediction = model.predict(X)\n",
    "#使用mse評估\n",
    "mae = metrics.mean_absolute_error(prediction, y)\n",
    "#使用msa評估\n",
    "mse = metrics.mean_squared_error(prediction, y)\n",
    "#使用r-square評估\n",
    "r2 = metrics.r2_score(prediction, y)\n",
    "print(\"mse : \", mae)\n",
    "print(\"msa : \", mse)\n",
    "print(\"r+square : \", r2)"
   ]
  },
  {
   "cell_type": "code",
   "execution_count": 10,
   "metadata": {},
   "outputs": [],
   "source": [
    "#分解問題\n",
    "# 使用 sklearn 內含的乳癌資料集\n",
    "cancer = datasets.load_breast_cancer() \n",
    "X_train, X_test, y_train, y_test = train_test_split(cancer.data, cancer.target, test_size=50, random_state=0)"
   ]
  },
  {
   "cell_type": "code",
   "execution_count": 11,
   "metadata": {},
   "outputs": [
    {
     "name": "stdout",
     "output_type": "stream",
     "text": [
      "[0 1 1 1 1 1 1 1 1 1 1 1 1 1 1 0 1 0 0 0 0 0 1 1 0 1 1 0 1 0 1 0 1 0 1 0 1\n",
      " 0 1 0 0 1 0 1 1 0 1 1 1 0]\n"
     ]
    }
   ],
   "source": [
    "# 測試集中的 label\n",
    "print(y_test)"
   ]
  },
  {
   "cell_type": "code",
   "execution_count": 12,
   "metadata": {},
   "outputs": [],
   "source": [
    "# 我們先隨機生成 50 筆預測值，範圍都在 0~1 之間，代表機率值\n",
    "y_pred = np.random.random((50,))"
   ]
  },
  {
   "cell_type": "code",
   "execution_count": 13,
   "metadata": {},
   "outputs": [
    {
     "name": "stdout",
     "output_type": "stream",
     "text": [
      "[0.49045999 0.64081435 0.37786969 0.81631016 0.45100652 0.26651602\n",
      " 0.98193758 0.30308256 0.69139528 0.39873434 0.3652403  0.58129142\n",
      " 0.75594864 0.79805753 0.94963733 0.38997701 0.03614678 0.42823222\n",
      " 0.88407421 0.57370017 0.73810747 0.78679127 0.40056299 0.42434015\n",
      " 0.77531047 0.76267427 0.68507471 0.07891992 0.66979056 0.23516996\n",
      " 0.47376302 0.56192084 0.49607036 0.79079419 0.60419522 0.46667303\n",
      " 0.12015167 0.94882927 0.25068631 0.66359704 0.6075676  0.3639139\n",
      " 0.51649405 0.79471991 0.58642591 0.1804026  0.93207299 0.6345341\n",
      " 0.73956135 0.98580952]\n"
     ]
    }
   ],
   "source": [
    "print(y_pred)"
   ]
  },
  {
   "cell_type": "code",
   "execution_count": 14,
   "metadata": {},
   "outputs": [
    {
     "name": "stdout",
     "output_type": "stream",
     "text": [
      "AUC :  0.4702886247877759\n"
     ]
    }
   ],
   "source": [
    "# 使用 roc_auc_score 來評估。 **這邊特別注意 y_pred 必須要放機率值進去!**\n",
    "auc = metrics.roc_auc_score(y_test, y_pred)\n",
    "# 得到結果約 0.5，與亂猜的結果相近，因為我們的預測值是用隨機生成的\n",
    "print(\"AUC : \", auc)"
   ]
  },
  {
   "cell_type": "code",
   "execution_count": 15,
   "metadata": {},
   "outputs": [
    {
     "name": "stdout",
     "output_type": "stream",
     "text": [
      "F1-Score :  0.5862068965517241\n",
      "precision :  0.5862068965517241\n",
      "Recall : 0.5483870967741935\n"
     ]
    }
   ],
   "source": [
    "#F1-Score\n",
    "threshold = 0.5\n",
    " # 使用 np.where 函數, 將 y_pred > 0.5 的值變為 1，小於 0.5 的為 0\n",
    "y_pred_binarized = np.where(y_pred > threshold,1, 0)\n",
    "# 使用 F1-Score 評估\n",
    "f1 = metrics.f1_score(y_test, y_pred_binarized)\n",
    "# 使用 Precision 評估\n",
    "precision = metrics.precision_score(y_test, y_pred_binarized)\n",
    "# 使用 recall 評估\n",
    "recall = metrics.recall_score(y_test, y_pred_binarized)\n",
    "print(\"F1-Score : \", precision)\n",
    "print(\"precision : \", precision)\n",
    "print(\"Recall :\", recall)"
   ]
  },
  {
   "cell_type": "code",
   "execution_count": 16,
   "metadata": {},
   "outputs": [],
   "source": [
    "#練習時間\n",
    "# 生成 100 個隨機的 0 / 1 prediction\n",
    "y_pred = np.random.randint(2, size = 100)\n",
    "# 生成 100 個隨機的 0 / 1 ground truth\n",
    "y_true = np.random.randint(2, size = 100)"
   ]
  },
  {
   "cell_type": "code",
   "execution_count": 17,
   "metadata": {},
   "outputs": [
    {
     "data": {
      "text/plain": [
       "array([1, 1, 0, 1, 1, 0, 0, 1, 1, 1, 0, 0, 1, 0, 1, 1, 1, 1, 1, 0, 0, 0,\n",
       "       0, 0, 1, 0, 0, 1, 1, 0, 0, 1, 1, 1, 0, 1, 0, 1, 1, 0, 0, 0, 1, 0,\n",
       "       1, 0, 0, 1, 0, 0, 1, 0, 0, 1, 1, 0, 0, 1, 1, 1, 1, 0, 1, 1, 1, 0,\n",
       "       0, 0, 0, 0, 0, 0, 1, 0, 1, 0, 0, 0, 1, 1, 1, 1, 1, 0, 1, 1, 0, 1,\n",
       "       1, 0, 0, 0, 0, 1, 1, 0, 0, 0, 1, 0])"
      ]
     },
     "execution_count": 17,
     "metadata": {},
     "output_type": "execute_result"
    }
   ],
   "source": [
    "y_pred"
   ]
  },
  {
   "cell_type": "code",
   "execution_count": 18,
   "metadata": {},
   "outputs": [],
   "source": [
    "\n",
    "import os\n",
    " \n",
    "os.environ[\"PATH\"] += os.pathsep + 'C:/Users/User/Graphviz2.38/bin'"
   ]
  },
  {
   "cell_type": "code",
   "execution_count": 19,
   "metadata": {},
   "outputs": [
    {
     "name": "stdout",
     "output_type": "stream",
     "text": [
      "F2-Score:  0.480349344978166\n",
      "Precision:  0.4489795918367347\n",
      "Recall:  0.4888888888888889\n"
     ]
    }
   ],
   "source": [
    "precision =  metrics.precision_score(y_true, y_pred)\n",
    "recall = metrics.recall_score(y_true, y_pred)\n",
    "#F2-score 公式\n",
    "f2 = 5*(precision * recall) / (4* precision + recall)\n",
    "print(\"F2-Score: \", f2) \n",
    "print(\"Precision: \", precision)\n",
    "print(\"Recall: \", recall)"
   ]
  },
  {
   "cell_type": "code",
   "execution_count": null,
   "metadata": {},
   "outputs": [],
   "source": []
  }
 ],
 "metadata": {
  "kernelspec": {
   "display_name": "Python 3",
   "language": "python",
   "name": "python3"
  },
  "language_info": {
   "codemirror_mode": {
    "name": "ipython",
    "version": 3
   },
   "file_extension": ".py",
   "mimetype": "text/x-python",
   "name": "python",
   "nbconvert_exporter": "python",
   "pygments_lexer": "ipython3",
   "version": "3.7.3"
  }
 },
 "nbformat": 4,
 "nbformat_minor": 2
}
