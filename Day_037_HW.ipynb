{
 "cells": [
  {
   "cell_type": "code",
   "execution_count": null,
   "metadata": {},
   "outputs": [],
   "source": [
    "#線性回歸模型能夠準確預測非線性關係的資料集嗎?\n",
    "##「找出符合資料規律的直線，就叫線性迴歸」的原文為 Finding the curve that best fits your data is called regression, and when that curve is a straight line, it's called linear regression. 雖然我以前學的說法是「只要因變量為自變量的線性組合，就可以稱作線性迴歸」，這代表就算線條不是直的，也可能是線性迴歸；但如果將包括多項式的迴歸細分作 polynomial regression，將作者說法算作 simple linear regression 也沒錯。\n",
    "\n",
    "#回歸模型是否對資料分布有基本假設?\n",
    "##Assumptions : εi ~iid N(0, σ^2) \n",
    "#1. 變數 Xi 與 Yi之間的函數關係形式設定是正確的\n",
    "#2. 變數 Xi 為非隨機的（非r.v），可視為在實驗設計中，事先給定的數值\n",
    "#3. E(εi) = 0\n",
    "#4. homoscedesticity\n",
    "#5. serial independence\n",
    "#6. normality : εi ~ Normal Distribution\n"
   ]
  }
 ],
 "metadata": {
  "kernelspec": {
   "display_name": "Python 3",
   "language": "python",
   "name": "python3"
  },
  "language_info": {
   "codemirror_mode": {
    "name": "ipython",
    "version": 3
   },
   "file_extension": ".py",
   "mimetype": "text/x-python",
   "name": "python",
   "nbconvert_exporter": "python",
   "pygments_lexer": "ipython3",
   "version": "3.7.3"
  }
 },
 "nbformat": 4,
 "nbformat_minor": 2
}
