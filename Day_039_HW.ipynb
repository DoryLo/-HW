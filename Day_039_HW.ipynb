{
 "cells": [
  {
   "cell_type": "markdown",
   "metadata": {},
   "source": [
    "#作業１：LASSO 回歸可以被用來作為 Feature selection 的工具，請了解 LASSO 模型為什麼可用來作 Feature selection\n",
    "##LASSO\n",
    "\n",
    "#1.随着惩罚力度alpha的增加越来越多的系数变成了0\n",
    "1.隨著\n",
    "\n",
    "#2.系数确实很好的控制在合理区间，以截距项跟一阶项为例，大致都在1到0.X之间。\n",
    "\n",
    "#3.随着惩罚力度的增加拟合越来越差，到最后RSS到了37，出现了拟合不足（underfitting）的问题。\n",
    "\n",
    "#作業２：當自變數 (X) 存在高度共線性時，Ridge Regression 可以處理這樣的問題嗎?\n",
    "#可以\n",
    "#当使用最小二乘法计算线性回归模型参数的时候，如果数据集合矩阵（ 也叫做设计矩阵(design matrix) ）X，存在，其解会极为不稳定。为了解决这个问题，就有了这一节脊回归（ Ridge Regression ）。 为了限制模型参数w的数值大小，就在模型原来的目标函数上加上一个惩罚项，这个过程叫做正则化（Regularization）。"
   ]
  },
  {
   "cell_type": "markdown",
   "metadata": {},
   "source": [
    "\n"
   ]
  }
 ],
 "metadata": {
  "kernelspec": {
   "display_name": "Python 3",
   "language": "python",
   "name": "python3"
  },
  "language_info": {
   "codemirror_mode": {
    "name": "ipython",
    "version": 3
   },
   "file_extension": ".py",
   "mimetype": "text/x-python",
   "name": "python",
   "nbconvert_exporter": "python",
   "pygments_lexer": "ipython3",
   "version": "3.7.3"
  }
 },
 "nbformat": 4,
 "nbformat_minor": 2
}
